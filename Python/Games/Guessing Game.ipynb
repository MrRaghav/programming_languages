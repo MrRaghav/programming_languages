{
 "cells": [
  {
   "cell_type": "markdown",
   "metadata": {},
   "source": [
    "reference:\n",
    "    \n",
    "https://www.pythonforbeginners.com/code-snippets-source-code/python-guessing-game\n",
    "\n",
    "https://www.webfx.com/tools/emoji-cheat-sheet/"
   ]
  },
  {
   "cell_type": "code",
   "execution_count": 1,
   "metadata": {},
   "outputs": [],
   "source": [
    "import random\n",
    "import emoji"
   ]
  },
  {
   "cell_type": "code",
   "execution_count": 3,
   "metadata": {},
   "outputs": [
    {
     "name": "stdout",
     "output_type": "stream",
     "text": [
      "Enter an integer from 0 to 999: 99\n",
      "Oh common, don't go too high\n",
      "Give any integer between 0 and 999 - 89\n",
      "Oh common, don't go too high\n",
      "Give any integer between 0 and 999 - 79\n",
      "Oh common, don't go too high\n",
      "Give any integer between 0 and 999 - 69\n",
      "Hey, its low...raise your bars!\n",
      "Give any integer between 0 and 999 - 78\n",
      "Oh common, don't go too high\n",
      "Give any integer between 0 and 999 - 70\n",
      "Hey, its low...raise your bars!\n",
      "Give any integer between 0 and 999 - 75\n",
      "Oh common, don't go too high\n",
      "Give any integer between 0 and 999 - 71\n",
      "Hey, its low...raise your bars!\n",
      "Give any integer between 0 and 999 - 74\n",
      "Oh common, don't go too high\n",
      "Give any integer between 0 and 999 - 73\n",
      "Oh common, don't go too high\n",
      "Give any integer between 0 and 999 - 72\n",
      "Great, such a guesser you are!!!\n",
      "🔥 🔥 🔥\n"
     ]
    }
   ],
   "source": [
    "n = random.randint(1, 99)\n",
    "guess = int(input(\"Enter an integer from 0 to 999: \"))\n",
    "while n != \"guess\":\n",
    "    print\n",
    "    if guess < n:\n",
    "        print(\"Hey, its low...raise your bars!\")\n",
    "        guess = int(input(\"Give any integer between 0 and 999 - \"))\n",
    "    elif guess > n:\n",
    "        print(\"Oh common, don't go too high\")\n",
    "        guess = int(input(\"Give any integer between 0 and 999 - \"))\n",
    "    else:\n",
    "        print(\"Great, such a guesser you are!!!\")\n",
    "        print(emoji.emojize(':fire: :fire: :fire:'))\n",
    "        break\n",
    "    print"
   ]
  },
  {
   "cell_type": "code",
   "execution_count": null,
   "metadata": {},
   "outputs": [],
   "source": []
  }
 ],
 "metadata": {
  "kernelspec": {
   "display_name": "Python 3",
   "language": "python",
   "name": "python3"
  },
  "language_info": {
   "codemirror_mode": {
    "name": "ipython",
    "version": 3
   },
   "file_extension": ".py",
   "mimetype": "text/x-python",
   "name": "python",
   "nbconvert_exporter": "python",
   "pygments_lexer": "ipython3",
   "version": "3.6.9"
  }
 },
 "nbformat": 4,
 "nbformat_minor": 2
}
