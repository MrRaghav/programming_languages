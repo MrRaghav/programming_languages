{
 "cells": [
  {
   "cell_type": "markdown",
   "metadata": {},
   "source": [
    "reference:\n",
    "    \n",
    "https://www.geeksforgeeks.org/python-math-library-expm1-method/"
   ]
  },
  {
   "cell_type": "code",
   "execution_count": 1,
   "metadata": {},
   "outputs": [],
   "source": [
    "# Python3 code to demonstrate \n",
    "# the working of expm1() \n",
    "import math "
   ]
  },
  {
   "cell_type": "code",
   "execution_count": 2,
   "metadata": {},
   "outputs": [],
   "source": [
    "# initializing the value  \n",
    "test_int = 4\n",
    "test_neg_int = -3"
   ]
  },
  {
   "cell_type": "code",
   "execution_count": 3,
   "metadata": {},
   "outputs": [
    {
     "name": "stdout",
     "output_type": "stream",
     "text": [
      "The expm1 value using positive integer : 53.598150033144236\n",
      "The expm1 value using negative integer : -0.950212931632136\n"
     ]
    }
   ],
   "source": [
    "# checking expm1() values \n",
    "# doesn't throw error with negative \n",
    "print (\"The expm1 value using positive integer : \"\n",
    "                      + str(math.expm1(test_int))) \n",
    "                        \n",
    "print (\"The expm1 value using negative integer : \"\n",
    "                  + str(math.expm1(test_neg_int))) "
   ]
  },
  {
   "cell_type": "markdown",
   "metadata": {},
   "source": [
    "**“exp() – 1” vs “expm1()”**"
   ]
  },
  {
   "cell_type": "markdown",
   "metadata": {},
   "source": [
    "The first reason is that value exp() - 1 is used a lot in mathematics and science applications and formulas.\n",
    "\n",
    "The most important reason is that for smaller value of x, of the order less than e-10, expm1() method give a result more accurate than exp() - 1."
   ]
  },
  {
   "cell_type": "code",
   "execution_count": 4,
   "metadata": {},
   "outputs": [
    {
     "name": "stdout",
     "output_type": "stream",
     "text": [
      "The value with exp()-1  : 1.000000082740371e-10\n",
      "The value with expm1() : 1.00000000005e-10\n"
     ]
    }
   ],
   "source": [
    "# initializing the value  \n",
    "test_int = 1e-10\n",
    "  \n",
    "# checking expm1() values \n",
    "# expm1() is more accurate \n",
    "print (\"The value with exp()-1  : \" + str(math.exp(test_int)-1)) \n",
    "print (\"The value with expm1() : \" + str(math.expm1(test_int))) "
   ]
  },
  {
   "cell_type": "code",
   "execution_count": null,
   "metadata": {},
   "outputs": [],
   "source": []
  }
 ],
 "metadata": {
  "kernelspec": {
   "display_name": "Python 3",
   "language": "python",
   "name": "python3"
  },
  "language_info": {
   "codemirror_mode": {
    "name": "ipython",
    "version": 3
   },
   "file_extension": ".py",
   "mimetype": "text/x-python",
   "name": "python",
   "nbconvert_exporter": "python",
   "pygments_lexer": "ipython3",
   "version": "3.6.9"
  }
 },
 "nbformat": 4,
 "nbformat_minor": 2
}
