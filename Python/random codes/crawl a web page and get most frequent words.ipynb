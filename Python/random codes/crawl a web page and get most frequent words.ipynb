{
 "cells": [
  {
   "cell_type": "markdown",
   "metadata": {},
   "source": [
    "reference:\n",
    "    \n",
    "geeksforgeeks.org/python-program-crawl-web-page-get-frequent-words/"
   ]
  },
  {
   "cell_type": "markdown",
   "metadata": {},
   "source": [
    "At first, we will create a **webcrawler** using \n",
    "\n",
    "1) request and \n",
    "\n",
    "2) beautiful soup modules"
   ]
  },
  {
   "cell_type": "code",
   "execution_count": 3,
   "metadata": {},
   "outputs": [],
   "source": [
    "import requests \n",
    "from bs4 import BeautifulSoup \n",
    "import operator \n",
    "from collections import Counter"
   ]
  },
  {
   "cell_type": "markdown",
   "metadata": {},
   "source": [
    "They will extract the data and save them in the format of lists"
   ]
  },
  {
   "cell_type": "code",
   "execution_count": 4,
   "metadata": {},
   "outputs": [],
   "source": [
    "#below function will fetch the data from web page and push it to another function\n",
    "\n",
    "def start(url):\n",
    "    wordlist = [] \n",
    "    source_code = requests.get(url).text \n",
    "    \n",
    "    #below line will be used to ping the requested url for data\n",
    "    soup = BeautifulSoup(source_code, 'html.parser') \n",
    "    \n",
    "    #text of web page will be stored under div tags\n",
    "    for each_text in soup.findAll('div', {'class':'entry-content'}): \n",
    "        content = each_text.text \n",
    "        words = content.lower().split() \n",
    "          \n",
    "        for each_word in words: \n",
    "            wordlist.append(each_word) \n",
    "        clean_wordlist(wordlist) \n",
    "    "
   ]
  },
  {
   "cell_type": "markdown",
   "metadata": {},
   "source": [
    "we will clean our data from special words in order to count the frequent words"
   ]
  },
  {
   "cell_type": "code",
   "execution_count": 5,
   "metadata": {},
   "outputs": [],
   "source": [
    "#below function is to clean the data\n",
    "\n",
    "def clean_wordlist(wordlist): \n",
    "    clean_list =[] \n",
    "    for word in wordlist: \n",
    "        symbols = '!@#$%^&*()_-+={[}]|\\;:\"<>?/., '\n",
    "          \n",
    "        for i in range (0, len(symbols)): \n",
    "            word = word.replace(symbols[i], '') \n",
    "              \n",
    "        if len(word) > 0: \n",
    "            clean_list.append(word) \n",
    "    create_dictionary(clean_list) "
   ]
  },
  {
   "cell_type": "code",
   "execution_count": 7,
   "metadata": {},
   "outputs": [],
   "source": [
    "#below function creates a dictionary of words with their counts\n",
    "\n",
    "def create_dictionary(clean_list): \n",
    "    word_count = {} \n",
    "      \n",
    "    for word in clean_list: \n",
    "        if word in word_count: \n",
    "            word_count[word] += 1\n",
    "        else: \n",
    "            word_count[word] = 1\n",
    "            \n",
    "    c = Counter(word_count)\n",
    "    \n",
    "    top = c.most_common(10) \n",
    "    print(top)"
   ]
  },
  {
   "cell_type": "code",
   "execution_count": 13,
   "metadata": {},
   "outputs": [
    {
     "name": "stdout",
     "output_type": "stream",
     "text": [
      "Enter the URL for which calculation of frequent words is required - http://raghavs1003.blogspot.com/2017/05/tour-de-savandurga.html\n",
      "[('a', 60), ('and', 48), ('i', 47), ('was', 45), ('we', 35), ('of', 29), ('to', 26), ('on', 24), ('with', 15), ('in', 15)]\n"
     ]
    }
   ],
   "source": [
    "if __name__ == '__main__': \n",
    "    url = input(\"Enter the URL for which calculation of frequent words is required - \")\n",
    "    start(url)"
   ]
  },
  {
   "cell_type": "code",
   "execution_count": null,
   "metadata": {},
   "outputs": [],
   "source": []
  },
  {
   "cell_type": "code",
   "execution_count": null,
   "metadata": {},
   "outputs": [],
   "source": []
  }
 ],
 "metadata": {
  "kernelspec": {
   "display_name": "Python 3",
   "language": "python",
   "name": "python3"
  },
  "language_info": {
   "codemirror_mode": {
    "name": "ipython",
    "version": 3
   },
   "file_extension": ".py",
   "mimetype": "text/x-python",
   "name": "python",
   "nbconvert_exporter": "python",
   "pygments_lexer": "ipython3",
   "version": "3.6.9"
  }
 },
 "nbformat": 4,
 "nbformat_minor": 2
}
