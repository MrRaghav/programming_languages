{
 "cells": [
  {
   "cell_type": "markdown",
   "metadata": {},
   "source": [
    "reference:\n",
    "\n",
    "https://www.geeksforgeeks.org/getpass-and-getuser-in-python-password-without-echo/"
   ]
  },
  {
   "cell_type": "code",
   "execution_count": 1,
   "metadata": {},
   "outputs": [],
   "source": [
    "import getpass "
   ]
  },
  {
   "cell_type": "code",
   "execution_count": 3,
   "metadata": {},
   "outputs": [
    {
     "name": "stdout",
     "output_type": "stream",
     "text": [
      "········\n",
      "Password entered: kumar casanova\n"
     ]
    }
   ],
   "source": [
    "try: \n",
    "    p = getpass.getpass() \n",
    "except Exception as error: \n",
    "    print('ERROR', error) \n",
    "else: \n",
    "    print('Password entered:', p) "
   ]
  },
  {
   "cell_type": "code",
   "execution_count": 4,
   "metadata": {},
   "outputs": [
    {
     "name": "stdout",
     "output_type": "stream",
     "text": [
      "How many GFs did Kumar have? ········\n",
      "Welcome..!!!\n"
     ]
    }
   ],
   "source": [
    "p = getpass.getpass(prompt='How many GFs did Kumar have? ') \n",
    "  \n",
    "if p.lower() == '27': \n",
    "    print('Welcome..!!!') \n",
    "else: \n",
    "    print('The answer entered by you is incorrect..!!!')"
   ]
  },
  {
   "cell_type": "code",
   "execution_count": 8,
   "metadata": {},
   "outputs": [
    {
     "name": "stdout",
     "output_type": "stream",
     "text": [
      "User Name : Raghvendra········\n",
      "Welcome!!!\n"
     ]
    }
   ],
   "source": [
    "user = getpass.getuser() \n",
    "  \n",
    "while True: \n",
    "    pwd = getpass.getpass(\"User Name : %s\" % user) \n",
    "  \n",
    "    if pwd == 'kumar casanova': \n",
    "        print(\"Welcome!!!\")\n",
    "        break\n",
    "    else: \n",
    "        print(\"The password you entered is incorrect.\")"
   ]
  },
  {
   "cell_type": "code",
   "execution_count": null,
   "metadata": {},
   "outputs": [],
   "source": []
  }
 ],
 "metadata": {
  "kernelspec": {
   "display_name": "Python 3",
   "language": "python",
   "name": "python3"
  },
  "language_info": {
   "codemirror_mode": {
    "name": "ipython",
    "version": 3
   },
   "file_extension": ".py",
   "mimetype": "text/x-python",
   "name": "python",
   "nbconvert_exporter": "python",
   "pygments_lexer": "ipython3",
   "version": "3.6.9"
  }
 },
 "nbformat": 4,
 "nbformat_minor": 2
}
