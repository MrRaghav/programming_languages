{
 "cells": [
  {
   "cell_type": "markdown",
   "metadata": {},
   "source": [
    "reference:\n",
    "    \n",
    "https://www.geeksforgeeks.org/decimal-functions-in-python-set-2-logical_and-normalize-quantize-rotate/"
   ]
  },
  {
   "cell_type": "code",
   "execution_count": 1,
   "metadata": {},
   "outputs": [],
   "source": [
    "# importing \"decimal\" module to use decimal functions \n",
    "import decimal "
   ]
  },
  {
   "cell_type": "code",
   "execution_count": 2,
   "metadata": {},
   "outputs": [],
   "source": [
    "# Initializing decimal number \n",
    "a = decimal.Decimal(101.34) \n",
    "  \n",
    "# Initializing decimal number \n",
    "b = decimal.Decimal(-101.34) \n",
    "  \n",
    "# Initializing decimal number \n",
    "c = decimal.Decimal(-58.68) \n",
    "  \n",
    "# Initializing decimal number \n",
    "d = decimal.Decimal(14.010000000) "
   ]
  },
  {
   "cell_type": "code",
   "execution_count": 3,
   "metadata": {},
   "outputs": [
    {
     "name": "stdout",
     "output_type": "stream",
     "text": [
      "The number closest to 1st number in direction of second number : \n",
      "101.3400000000000034106051316\n"
     ]
    }
   ],
   "source": [
    "# printing the number using next_toward() \n",
    "print (\"The number closest to 1st number in direction of second number : \") \n",
    "print (a.next_toward(c)) "
   ]
  },
  {
   "cell_type": "code",
   "execution_count": 4,
   "metadata": {},
   "outputs": [
    {
     "name": "stdout",
     "output_type": "stream",
     "text": [
      "The second number with sign of first number is : -101.3400000000000034106051316\n"
     ]
    }
   ],
   "source": [
    "# printing the number using next_toward() \n",
    "# when equal \n",
    "print (\"The second number with sign of first number is : \",end=\"\") \n",
    "print (b.next_toward(a)) "
   ]
  },
  {
   "cell_type": "code",
   "execution_count": 5,
   "metadata": {},
   "outputs": [
    {
     "name": "stdout",
     "output_type": "stream",
     "text": [
      "Number after erasing rightmost trailing zeroes : 14.00999999999999978683717927\n"
     ]
    }
   ],
   "source": [
    "# printing number after erasing rightmost trailing zeroes \n",
    "print (\"Number after erasing rightmost trailing zeroes : \",end=\"\") \n",
    "print (d.normalize()) "
   ]
  },
  {
   "cell_type": "code",
   "execution_count": null,
   "metadata": {},
   "outputs": [],
   "source": []
  }
 ],
 "metadata": {
  "kernelspec": {
   "display_name": "Python 3",
   "language": "python",
   "name": "python3"
  },
  "language_info": {
   "codemirror_mode": {
    "name": "ipython",
    "version": 3
   },
   "file_extension": ".py",
   "mimetype": "text/x-python",
   "name": "python",
   "nbconvert_exporter": "python",
   "pygments_lexer": "ipython3",
   "version": "3.6.9"
  }
 },
 "nbformat": 4,
 "nbformat_minor": 2
}
