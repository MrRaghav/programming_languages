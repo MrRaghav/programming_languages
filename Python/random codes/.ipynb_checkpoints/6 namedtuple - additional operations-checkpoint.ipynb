{
 "cells": [
  {
   "cell_type": "markdown",
   "metadata": {},
   "source": [
    "reference:\n",
    "    \n",
    "https://www.geeksforgeeks.org/namedtuple-in-python/"
   ]
  },
  {
   "cell_type": "code",
   "execution_count": 1,
   "metadata": {},
   "outputs": [],
   "source": [
    "# Python code to demonstrate namedtuple() and \n",
    "# _fields and _replace() \n",
    "  \n",
    "# importing \"collections\" for namedtuple() \n",
    "import collections"
   ]
  },
  {
   "cell_type": "code",
   "execution_count": 2,
   "metadata": {},
   "outputs": [
    {
     "name": "stdout",
     "output_type": "stream",
     "text": [
      "All the fields of students are : \n",
      "('name', 'age', 'DOB')\n",
      "The modified namedtuple is : \n",
      "Student(name='Manjeet', age='19', DOB='2541997')\n"
     ]
    }
   ],
   "source": [
    "# Declaring namedtuple() \n",
    "Student = collections.namedtuple('Student',['name','age','DOB']) \n",
    "  \n",
    "# Adding values \n",
    "S = Student('Nandini','19','2541997') \n",
    "  \n",
    "# using _fields to display all the keynames of namedtuple() \n",
    "print (\"All the fields of students are : \") \n",
    "print (S._fields) \n",
    "  \n",
    "# using _replace() to change the attribute values of namedtuple \n",
    "print (\"The modified namedtuple is : \") \n",
    "print(S._replace(name = 'Manjeet')) "
   ]
  },
  {
   "cell_type": "code",
   "execution_count": null,
   "metadata": {},
   "outputs": [],
   "source": []
  }
 ],
 "metadata": {
  "kernelspec": {
   "display_name": "Python 3",
   "language": "python",
   "name": "python3"
  },
  "language_info": {
   "codemirror_mode": {
    "name": "ipython",
    "version": 3
   },
   "file_extension": ".py",
   "mimetype": "text/x-python",
   "name": "python",
   "nbconvert_exporter": "python",
   "pygments_lexer": "ipython3",
   "version": "3.6.9"
  }
 },
 "nbformat": 4,
 "nbformat_minor": 2
}
