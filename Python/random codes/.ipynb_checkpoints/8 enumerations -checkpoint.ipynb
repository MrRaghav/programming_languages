{
 "cells": [
  {
   "cell_type": "markdown",
   "metadata": {},
   "source": [
    "reference:\n",
    "    \n",
    "https://www.geeksforgeeks.org/enum-in-python/"
   ]
  },
  {
   "cell_type": "code",
   "execution_count": 1,
   "metadata": {},
   "outputs": [],
   "source": [
    "import enum "
   ]
  },
  {
   "cell_type": "code",
   "execution_count": 2,
   "metadata": {},
   "outputs": [],
   "source": [
    "# creating enumerations using class \n",
    "class Animal(enum.Enum): \n",
    "    dog = 1\n",
    "    cat = 2\n",
    "    lion = 3"
   ]
  },
  {
   "cell_type": "code",
   "execution_count": 3,
   "metadata": {},
   "outputs": [
    {
     "name": "stdout",
     "output_type": "stream",
     "text": [
      "The string representation of enum member is : Animal.dog\n"
     ]
    }
   ],
   "source": [
    "# printing enum member as string \n",
    "print (\"The string representation of enum member is : \",end=\"\") \n",
    "print (Animal.dog) "
   ]
  },
  {
   "cell_type": "code",
   "execution_count": 4,
   "metadata": {},
   "outputs": [
    {
     "name": "stdout",
     "output_type": "stream",
     "text": [
      "The repr representation of enum member is : <Animal.dog: 1>\n"
     ]
    }
   ],
   "source": [
    "# printing enum member as repr \n",
    "print (\"The repr representation of enum member is : \",end=\"\") \n",
    "print (repr(Animal.dog))"
   ]
  },
  {
   "cell_type": "code",
   "execution_count": 5,
   "metadata": {},
   "outputs": [
    {
     "name": "stdout",
     "output_type": "stream",
     "text": [
      "The type of enum member is : <enum 'Animal'>\n"
     ]
    }
   ],
   "source": [
    "# printing the type of enum member using type() \n",
    "print (\"The type of enum member is : \",end =\"\") \n",
    "print (type(Animal.dog))"
   ]
  },
  {
   "cell_type": "code",
   "execution_count": 6,
   "metadata": {},
   "outputs": [
    {
     "name": "stdout",
     "output_type": "stream",
     "text": [
      "The name of enum member is : dog\n"
     ]
    }
   ],
   "source": [
    "# printing name of enum member using \"name\" keyword \n",
    "print (\"The name of enum member is : \",end =\"\") \n",
    "print (Animal.dog.name) "
   ]
  },
  {
   "cell_type": "markdown",
   "metadata": {},
   "source": [
    "**Looping and Hashing**"
   ]
  },
  {
   "cell_type": "code",
   "execution_count": 7,
   "metadata": {},
   "outputs": [
    {
     "name": "stdout",
     "output_type": "stream",
     "text": [
      "All the enum values are : \n",
      "Animal.dog\n",
      "Animal.cat\n",
      "Animal.lion\n"
     ]
    }
   ],
   "source": [
    "# printing all enum members using loop \n",
    "print (\"All the enum values are : \") \n",
    "for Anim in (Animal): \n",
    "    print(Anim)"
   ]
  },
  {
   "cell_type": "code",
   "execution_count": 8,
   "metadata": {},
   "outputs": [],
   "source": [
    "# Hashing enum member as dictionary \n",
    "di = {} \n",
    "di[Animal.dog] = 'bark'\n",
    "di[Animal.lion] = 'roar'"
   ]
  },
  {
   "cell_type": "code",
   "execution_count": 9,
   "metadata": {},
   "outputs": [
    {
     "name": "stdout",
     "output_type": "stream",
     "text": [
      "Enum is hashed\n"
     ]
    }
   ],
   "source": [
    "# checking if enum values are hashed successfully \n",
    "if di=={Animal.dog : 'bark',Animal.lion : 'roar'}: \n",
    "      print (\"Enum is hashed\") \n",
    "else: print (\"Enum is not hashed\") "
   ]
  },
  {
   "cell_type": "markdown",
   "metadata": {},
   "source": [
    "**Access and Comparison**"
   ]
  },
  {
   "cell_type": "code",
   "execution_count": 10,
   "metadata": {},
   "outputs": [
    {
     "name": "stdout",
     "output_type": "stream",
     "text": [
      "The enum member associated with value 2 is : Animal.cat\n"
     ]
    }
   ],
   "source": [
    "# Accessing enum member using value  \n",
    "print (\"The enum member associated with value 2 is : \",end=\"\") \n",
    "print (Animal(2))"
   ]
  },
  {
   "cell_type": "code",
   "execution_count": 11,
   "metadata": {},
   "outputs": [
    {
     "name": "stdout",
     "output_type": "stream",
     "text": [
      "The enum member associated with name lion is : Animal.lion\n"
     ]
    }
   ],
   "source": [
    "# Accessing enum member using name   \n",
    "print (\"The enum member associated with name lion is : \",end=\"\") \n",
    "print (Animal['lion'])"
   ]
  },
  {
   "cell_type": "code",
   "execution_count": 12,
   "metadata": {},
   "outputs": [],
   "source": [
    "# Assigning enum member  \n",
    "mem = Animal.dog"
   ]
  },
  {
   "cell_type": "code",
   "execution_count": 13,
   "metadata": {},
   "outputs": [
    {
     "name": "stdout",
     "output_type": "stream",
     "text": [
      "The value associated with dog is : 1\n"
     ]
    }
   ],
   "source": [
    "# Displaying value  \n",
    "print (\"The value associated with dog is : \",end=\"\") \n",
    "print (mem.value)"
   ]
  },
  {
   "cell_type": "code",
   "execution_count": 14,
   "metadata": {},
   "outputs": [
    {
     "name": "stdout",
     "output_type": "stream",
     "text": [
      "The name associated with dog is : dog\n"
     ]
    }
   ],
   "source": [
    "# Displaying name   \n",
    "print (\"The name associated with dog is : \",end=\"\") \n",
    "print (mem.name)"
   ]
  },
  {
   "cell_type": "code",
   "execution_count": 15,
   "metadata": {},
   "outputs": [
    {
     "name": "stdout",
     "output_type": "stream",
     "text": [
      "Dog and cat are different animals\n"
     ]
    }
   ],
   "source": [
    "# Comparison using \"is\"  \n",
    "if Animal.dog is Animal.cat: \n",
    "       print (\"Dog and cat are same animals\") \n",
    "else : print (\"Dog and cat are different animals\") "
   ]
  },
  {
   "cell_type": "code",
   "execution_count": 16,
   "metadata": {},
   "outputs": [
    {
     "name": "stdout",
     "output_type": "stream",
     "text": [
      "Lions and cat are different\n"
     ]
    }
   ],
   "source": [
    "# Comparison using \"!=\" \n",
    "if Animal.lion != Animal.cat: \n",
    "       print (\"Lions and cat are different\") \n",
    "else : print (\"Lions and cat are same\") "
   ]
  },
  {
   "cell_type": "code",
   "execution_count": null,
   "metadata": {},
   "outputs": [],
   "source": []
  }
 ],
 "metadata": {
  "kernelspec": {
   "display_name": "Python 3",
   "language": "python",
   "name": "python3"
  },
  "language_info": {
   "codemirror_mode": {
    "name": "ipython",
    "version": 3
   },
   "file_extension": ".py",
   "mimetype": "text/x-python",
   "name": "python",
   "nbconvert_exporter": "python",
   "pygments_lexer": "ipython3",
   "version": "3.6.9"
  }
 },
 "nbformat": 4,
 "nbformat_minor": 2
}
