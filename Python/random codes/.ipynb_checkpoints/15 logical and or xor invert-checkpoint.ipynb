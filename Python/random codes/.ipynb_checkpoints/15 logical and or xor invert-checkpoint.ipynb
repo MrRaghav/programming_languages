{
 "cells": [
  {
   "cell_type": "markdown",
   "metadata": {},
   "source": [
    "reference:\n",
    "    \n",
    "https://www.geeksforgeeks.org/decimal-functions-in-python-set-2-logical_and-normalize-quantize-rotate/"
   ]
  },
  {
   "cell_type": "code",
   "execution_count": 1,
   "metadata": {},
   "outputs": [],
   "source": [
    "# importing \"decimal\" module to use decimal functions \n",
    "import decimal "
   ]
  },
  {
   "cell_type": "code",
   "execution_count": 2,
   "metadata": {},
   "outputs": [],
   "source": [
    "# Initializing decimal number \n",
    "a = decimal.Decimal(1000) \n",
    "  \n",
    "# Initializing decimal number \n",
    "b = decimal.Decimal(1110) "
   ]
  },
  {
   "cell_type": "code",
   "execution_count": 3,
   "metadata": {},
   "outputs": [
    {
     "name": "stdout",
     "output_type": "stream",
     "text": [
      "The logical_and() of two numbers is : 1000\n"
     ]
    }
   ],
   "source": [
    "# printing logical_and of two numbers \n",
    "print (\"The logical_and() of two numbers is : \",end=\"\") \n",
    "print (a.logical_and(b)) "
   ]
  },
  {
   "cell_type": "code",
   "execution_count": 4,
   "metadata": {},
   "outputs": [
    {
     "name": "stdout",
     "output_type": "stream",
     "text": [
      "The logical_or() of two numbers is : 1110\n"
     ]
    }
   ],
   "source": [
    "# printing logical_or of two numbers \n",
    "print (\"The logical_or() of two numbers is : \",end=\"\") \n",
    "print (a.logical_or(b)) "
   ]
  },
  {
   "cell_type": "code",
   "execution_count": 5,
   "metadata": {},
   "outputs": [
    {
     "name": "stdout",
     "output_type": "stream",
     "text": [
      "The exclusive or of two numbers is : 110\n"
     ]
    }
   ],
   "source": [
    "# printing exclusive or of two numbers \n",
    "print (\"The exclusive or of two numbers is : \",end=\"\") \n",
    "print (a.logical_xor(b)) "
   ]
  },
  {
   "cell_type": "code",
   "execution_count": 6,
   "metadata": {},
   "outputs": [
    {
     "name": "stdout",
     "output_type": "stream",
     "text": [
      "The logical inversion of number is : 1111111111111111111111110111\n"
     ]
    }
   ],
   "source": [
    "# printing logical inversion of number \n",
    "print (\"The logical inversion of number is : \",end=\"\") \n",
    "print (a.logical_invert())"
   ]
  },
  {
   "cell_type": "code",
   "execution_count": null,
   "metadata": {},
   "outputs": [],
   "source": []
  }
 ],
 "metadata": {
  "kernelspec": {
   "display_name": "Python 3",
   "language": "python",
   "name": "python3"
  },
  "language_info": {
   "codemirror_mode": {
    "name": "ipython",
    "version": 3
   },
   "file_extension": ".py",
   "mimetype": "text/x-python",
   "name": "python",
   "nbconvert_exporter": "python",
   "pygments_lexer": "ipython3",
   "version": "3.6.9"
  }
 },
 "nbformat": 4,
 "nbformat_minor": 2
}
