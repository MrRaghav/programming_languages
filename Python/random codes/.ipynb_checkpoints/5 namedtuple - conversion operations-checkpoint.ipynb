{
 "cells": [
  {
   "cell_type": "markdown",
   "metadata": {},
   "source": [
    "reference:\n",
    "    \n",
    "https://www.geeksforgeeks.org/namedtuple-in-python/"
   ]
  },
  {
   "cell_type": "code",
   "execution_count": 1,
   "metadata": {},
   "outputs": [],
   "source": [
    "# Python code to demonstrate namedtuple() and \n",
    "# _make(), _asdict() and \"**\" operator \n",
    "  \n",
    "# importing \"collections\" for namedtuple() \n",
    "import collections "
   ]
  },
  {
   "cell_type": "code",
   "execution_count": 2,
   "metadata": {},
   "outputs": [
    {
     "name": "stdout",
     "output_type": "stream",
     "text": [
      "The namedtuple instance using iterable is  : \n",
      "Student(name='Manjeet', age='19', DOB='411997')\n",
      "The OrderedDict instance using namedtuple is  : \n",
      "OrderedDict([('name', 'Nandini'), ('age', '19'), ('DOB', '2541997')])\n",
      "The namedtuple instance from dict is  : \n",
      "Student(name='Nikhil', age=19, DOB='1391997')\n"
     ]
    }
   ],
   "source": [
    "# Declaring namedtuple() \n",
    "Student = collections.namedtuple('Student',['name','age','DOB']) \n",
    "  \n",
    "# Adding values \n",
    "S = Student('Nandini','19','2541997') \n",
    "  \n",
    "# initializing iterable  \n",
    "li = ['Manjeet', '19', '411997' ] \n",
    "  \n",
    "# initializing dict \n",
    "di = { 'name' : \"Nikhil\", 'age' : 19 , 'DOB' : '1391997' } \n",
    "  \n",
    "# using _make() to return namedtuple() \n",
    "print (\"The namedtuple instance using iterable is  : \") \n",
    "print (Student._make(li)) \n",
    "  \n",
    "# using _asdict() to return an OrderedDict() \n",
    "print (\"The OrderedDict instance using namedtuple is  : \") \n",
    "print (S._asdict()) \n",
    "  \n",
    "# using ** operator to return namedtuple from dictionary \n",
    "print (\"The namedtuple instance from dict is  : \") \n",
    "print (Student(**di)) "
   ]
  },
  {
   "cell_type": "code",
   "execution_count": null,
   "metadata": {},
   "outputs": [],
   "source": []
  }
 ],
 "metadata": {
  "kernelspec": {
   "display_name": "Python 3",
   "language": "python",
   "name": "python3"
  },
  "language_info": {
   "codemirror_mode": {
    "name": "ipython",
    "version": 3
   },
   "file_extension": ".py",
   "mimetype": "text/x-python",
   "name": "python",
   "nbconvert_exporter": "python",
   "pygments_lexer": "ipython3",
   "version": "3.6.9"
  }
 },
 "nbformat": 4,
 "nbformat_minor": 2
}
