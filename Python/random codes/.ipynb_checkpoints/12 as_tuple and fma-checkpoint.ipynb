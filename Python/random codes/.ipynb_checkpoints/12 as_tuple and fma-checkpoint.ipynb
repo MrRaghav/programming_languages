{
 "cells": [
  {
   "cell_type": "markdown",
   "metadata": {},
   "source": [
    "reference:\n",
    "    \n",
    "https://www.geeksforgeeks.org/decimal-functions-python-set-1/"
   ]
  },
  {
   "cell_type": "code",
   "execution_count": 5,
   "metadata": {},
   "outputs": [],
   "source": [
    "# importing \"decimal\" module to use decimal functions \n",
    "import decimal "
   ]
  },
  {
   "cell_type": "code",
   "execution_count": 6,
   "metadata": {},
   "outputs": [],
   "source": [
    "# using as_tuple() to return decimal number as tuple \n",
    "a = decimal.Decimal(-4.5).as_tuple() "
   ]
  },
  {
   "cell_type": "markdown",
   "metadata": {},
   "source": [
    "sign(0 for +, 1 for -)"
   ]
  },
  {
   "cell_type": "code",
   "execution_count": 7,
   "metadata": {},
   "outputs": [
    {
     "name": "stdout",
     "output_type": "stream",
     "text": [
      "The tuple form of decimal number is : DecimalTuple(sign=1, digits=(4, 5), exponent=-1)\n"
     ]
    }
   ],
   "source": [
    "# printing the tuple \n",
    "print (\"The tuple form of decimal number is : \",end=\"\") \n",
    "print (a) "
   ]
  },
  {
   "cell_type": "code",
   "execution_count": 8,
   "metadata": {},
   "outputs": [],
   "source": [
    "# using fma() to compute fused multiply and addition \n",
    "b = decimal.Decimal(5).fma(2,3) "
   ]
  },
  {
   "cell_type": "markdown",
   "metadata": {},
   "source": [
    "computes (num*a)+b"
   ]
  },
  {
   "cell_type": "code",
   "execution_count": 9,
   "metadata": {},
   "outputs": [
    {
     "name": "stdout",
     "output_type": "stream",
     "text": [
      "The fused multiply and addition of decimal number is : 13\n"
     ]
    }
   ],
   "source": [
    "# printing the fused multiple and addition \n",
    "print (\"The fused multiply and addition of decimal number is : \",end=\"\") \n",
    "print (b) "
   ]
  },
  {
   "cell_type": "code",
   "execution_count": null,
   "metadata": {},
   "outputs": [],
   "source": []
  }
 ],
 "metadata": {
  "kernelspec": {
   "display_name": "Python 3",
   "language": "python",
   "name": "python3"
  },
  "language_info": {
   "codemirror_mode": {
    "name": "ipython",
    "version": 3
   },
   "file_extension": ".py",
   "mimetype": "text/x-python",
   "name": "python",
   "nbconvert_exporter": "python",
   "pygments_lexer": "ipython3",
   "version": "3.6.9"
  }
 },
 "nbformat": 4,
 "nbformat_minor": 2
}
