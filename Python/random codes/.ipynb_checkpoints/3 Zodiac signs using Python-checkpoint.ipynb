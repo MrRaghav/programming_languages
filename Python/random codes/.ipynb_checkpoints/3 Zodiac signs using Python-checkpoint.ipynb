{
 "cells": [
  {
   "cell_type": "markdown",
   "metadata": {},
   "source": [
    "reference:\n",
    "    \n",
    "https://www.geeksforgeeks.org/program-display-astrological-sign-zodiac-sign-given-date-birth/"
   ]
  },
  {
   "cell_type": "code",
   "execution_count": 6,
   "metadata": {},
   "outputs": [],
   "source": [
    "def zodiac_sign(day, month): \n",
    "      \n",
    "    # checks month and date within the valid range \n",
    "    # of a specified zodiac \n",
    "    if month == 'december': \n",
    "        astro_sign = 'Sagittarius' if (day < 22) else 'capricorn'\n",
    "          \n",
    "    elif month == 'january': \n",
    "        astro_sign = 'Capricorn' if (day < 20) else 'aquarius'\n",
    "          \n",
    "    elif month == 'february': \n",
    "        astro_sign = 'Aquarius' if (day < 19) else 'pisces'\n",
    "          \n",
    "    elif month == 'march': \n",
    "        astro_sign = 'Pisces' if (day < 21) else 'aries'\n",
    "          \n",
    "    elif month == 'april': \n",
    "        astro_sign = 'Aries' if (day < 20) else 'taurus'\n",
    "          \n",
    "    elif month == 'may': \n",
    "        astro_sign = 'Taurus' if (day < 21) else 'gemini'\n",
    "          \n",
    "    elif month == 'june': \n",
    "        astro_sign = 'Gemini' if (day < 21) else 'cancer'\n",
    "          \n",
    "    elif month == 'july': \n",
    "        astro_sign = 'Cancer' if (day < 23) else 'leo'\n",
    "          \n",
    "    elif month == 'august': \n",
    "        astro_sign = 'Leo' if (day < 23) else 'virgo'\n",
    "          \n",
    "    elif month == 'september': \n",
    "        astro_sign = 'Virgo' if (day < 23) else 'libra'\n",
    "          \n",
    "    elif month == 'october': \n",
    "        astro_sign = 'Libra' if (day < 23) else 'scorpio'\n",
    "          \n",
    "    elif month == 'november': \n",
    "        astro_sign = 'scorpio' if (day < 22) else 'sagittarius'\n",
    "          \n",
    "    print(astro_sign) "
   ]
  },
  {
   "cell_type": "code",
   "execution_count": 13,
   "metadata": {},
   "outputs": [
    {
     "name": "stdout",
     "output_type": "stream",
     "text": [
      "Please enter the date of your birth3\n",
      "please enter the month of your birthDecember\n",
      "Sagittarius\n"
     ]
    }
   ],
   "source": [
    "   \n",
    "# Driver code  \n",
    "if __name__ == '__main__': \n",
    "    day = input(\"Please enter the date of your birth\")\n",
    "    day = int(day)\n",
    "    month = input(\"please enter the month of your birth\").lower()\n",
    "    zodiac_sign(day, month)    "
   ]
  },
  {
   "cell_type": "code",
   "execution_count": null,
   "metadata": {},
   "outputs": [],
   "source": []
  }
 ],
 "metadata": {
  "kernelspec": {
   "display_name": "Python 3",
   "language": "python",
   "name": "python3"
  },
  "language_info": {
   "codemirror_mode": {
    "name": "ipython",
    "version": 3
   },
   "file_extension": ".py",
   "mimetype": "text/x-python",
   "name": "python",
   "nbconvert_exporter": "python",
   "pygments_lexer": "ipython3",
   "version": "3.6.9"
  }
 },
 "nbformat": 4,
 "nbformat_minor": 2
}
