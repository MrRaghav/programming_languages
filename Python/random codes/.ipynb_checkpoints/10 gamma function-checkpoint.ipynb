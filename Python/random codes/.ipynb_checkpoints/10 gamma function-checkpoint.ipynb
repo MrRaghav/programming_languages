{
 "cells": [
  {
   "cell_type": "markdown",
   "metadata": {},
   "source": [
    "reference:\n",
    "    \n",
    "https://www.geeksforgeeks.org/python-math-library-gamma-function/"
   ]
  },
  {
   "cell_type": "code",
   "execution_count": 1,
   "metadata": {},
   "outputs": [],
   "source": [
    "# Python code to demonstrate \n",
    "# working of gamma() \n",
    "import math"
   ]
  },
  {
   "cell_type": "code",
   "execution_count": 2,
   "metadata": {},
   "outputs": [
    {
     "name": "stdout",
     "output_type": "stream",
     "text": [
      "The gamma value of the given argument is : 120.0\n"
     ]
    }
   ],
   "source": [
    "#initializing argument \n",
    "gamma_var = 6\n",
    "  \n",
    "# Printing the gamma value. \n",
    "print (\"The gamma value of the given argument is : \"\n",
    "                       + str(math.gamma(gamma_var)))"
   ]
  },
  {
   "cell_type": "code",
   "execution_count": 3,
   "metadata": {},
   "outputs": [],
   "source": [
    "import time"
   ]
  },
  {
   "cell_type": "code",
   "execution_count": 6,
   "metadata": {},
   "outputs": [
    {
     "name": "stdout",
     "output_type": "stream",
     "text": [
      "The gamma value using factorial is : 120\n",
      "The time taken to compute is : -1589142508748.664\n",
      "\n",
      "\n",
      "The gamma value using gamma() is : 120.0\n",
      "The time taken to compute is : -1589142508748.6602\n"
     ]
    }
   ],
   "source": [
    "# checking performance  \n",
    "# gamma() vs factorial() \n",
    "start_fact = time.time()*1000.0 #for milliseconds\n",
    "res_fact = math.factorial(gamma_var-1) \n",
    "  \n",
    "print (\"The gamma value using factorial is : \" + str(res_fact)) \n",
    "  \n",
    "print (\"The time taken to compute is : \" + str(time.time() - start_fact)) \n",
    "  \n",
    "print ('\\n') \n",
    "  \n",
    "start_gamma = time.time()*1000.0\n",
    "res_gamma = math.gamma(gamma_var) \n",
    "  \n",
    "print (\"The gamma value using gamma() is : \" + str(res_gamma)) \n",
    "  \n",
    "print (\"The time taken to compute is : \" + str(time.time() - start_gamma)) "
   ]
  },
  {
   "cell_type": "code",
   "execution_count": null,
   "metadata": {},
   "outputs": [],
   "source": []
  }
 ],
 "metadata": {
  "kernelspec": {
   "display_name": "Python 3",
   "language": "python",
   "name": "python3"
  },
  "language_info": {
   "codemirror_mode": {
    "name": "ipython",
    "version": 3
   },
   "file_extension": ".py",
   "mimetype": "text/x-python",
   "name": "python",
   "nbconvert_exporter": "python",
   "pygments_lexer": "ipython3",
   "version": "3.6.9"
  }
 },
 "nbformat": 4,
 "nbformat_minor": 2
}
