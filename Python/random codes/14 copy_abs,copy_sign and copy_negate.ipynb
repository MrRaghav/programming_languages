{
 "cells": [
  {
   "cell_type": "markdown",
   "metadata": {},
   "source": [
    "reference:\n",
    "    \n",
    "https://www.geeksforgeeks.org/decimal-functions-python-set-1/"
   ]
  },
  {
   "cell_type": "code",
   "execution_count": 1,
   "metadata": {},
   "outputs": [],
   "source": [
    "# importing \"decimal\" module to use decimal functions \n",
    "import decimal "
   ]
  },
  {
   "cell_type": "code",
   "execution_count": 2,
   "metadata": {},
   "outputs": [],
   "source": [
    "# Initializing decimal number \n",
    "a = decimal.Decimal(9.53) \n",
    "  \n",
    "# Initializing decimal number \n",
    "b = decimal.Decimal(-9.56)"
   ]
  },
  {
   "cell_type": "code",
   "execution_count": 3,
   "metadata": {},
   "outputs": [
    {
     "name": "stdout",
     "output_type": "stream",
     "text": [
      "The absolute value using copy_abs() is : 9.5600000000000004973799150320701301097869873046875\n"
     ]
    }
   ],
   "source": [
    "# printing absolute value using copy_abs() \n",
    "print (\"The absolute value using copy_abs() is : \",end=\"\") \n",
    "print (b.copy_abs()) "
   ]
  },
  {
   "cell_type": "code",
   "execution_count": 4,
   "metadata": {},
   "outputs": [
    {
     "name": "stdout",
     "output_type": "stream",
     "text": [
      "The negated value using copy_negate() is : 9.5600000000000004973799150320701301097869873046875\n"
     ]
    }
   ],
   "source": [
    "# printing negated value using copy_negate() \n",
    "print (\"The negated value using copy_negate() is : \",end=\"\") \n",
    "print (b.copy_negate())"
   ]
  },
  {
   "cell_type": "code",
   "execution_count": 5,
   "metadata": {},
   "outputs": [
    {
     "name": "stdout",
     "output_type": "stream",
     "text": [
      "The sign effected value using copy_sign() is : -9.5299999999999993605115378159098327159881591796875\n"
     ]
    }
   ],
   "source": [
    "# printing sign effected value using copy_sign() \n",
    "print (\"The sign effected value using copy_sign() is : \",end=\"\") \n",
    "print (a.copy_sign(b)) "
   ]
  },
  {
   "cell_type": "code",
   "execution_count": null,
   "metadata": {},
   "outputs": [],
   "source": []
  }
 ],
 "metadata": {
  "kernelspec": {
   "display_name": "Python 3",
   "language": "python",
   "name": "python3"
  },
  "language_info": {
   "codemirror_mode": {
    "name": "ipython",
    "version": 3
   },
   "file_extension": ".py",
   "mimetype": "text/x-python",
   "name": "python",
   "nbconvert_exporter": "python",
   "pygments_lexer": "ipython3",
   "version": "3.6.9"
  }
 },
 "nbformat": 4,
 "nbformat_minor": 2
}
