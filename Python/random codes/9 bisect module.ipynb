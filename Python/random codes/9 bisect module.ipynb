{
 "cells": [
  {
   "cell_type": "markdown",
   "metadata": {},
   "source": [
    "reference:\n",
    "    \n",
    "https://www.geeksforgeeks.org/bisect-algorithm-functions-in-python/"
   ]
  },
  {
   "cell_type": "markdown",
   "metadata": {},
   "source": [
    "Time Complexity:\n",
    "\n",
    "O(log(n)) -> Bisect method works on the concept of binary search"
   ]
  },
  {
   "cell_type": "code",
   "execution_count": 1,
   "metadata": {},
   "outputs": [],
   "source": [
    "# importing \"bisect\" for bisection operations \n",
    "import bisect"
   ]
  },
  {
   "cell_type": "code",
   "execution_count": 2,
   "metadata": {},
   "outputs": [],
   "source": [
    "# initializing list \n",
    "li = [1, 3, 4, 4, 4, 6, 7] "
   ]
  },
  {
   "cell_type": "code",
   "execution_count": 3,
   "metadata": {},
   "outputs": [
    {
     "name": "stdout",
     "output_type": "stream",
     "text": [
      "The rightmost index to insert, so list remains sorted is  : 5\n"
     ]
    }
   ],
   "source": [
    "# using bisect() to find index to insert new element \n",
    "# returns 5 ( right most possible index ) \n",
    "print (\"The rightmost index to insert, so list remains sorted is  : \", end=\"\") \n",
    "print (bisect.bisect(li, 4))"
   ]
  },
  {
   "cell_type": "code",
   "execution_count": 4,
   "metadata": {},
   "outputs": [
    {
     "name": "stdout",
     "output_type": "stream",
     "text": [
      "The leftmost index to insert, so list remains sorted is  : 2\n"
     ]
    }
   ],
   "source": [
    "# using bisect_left() to find index to insert new element \n",
    "# returns 2 ( left most possible index ) \n",
    "print (\"The leftmost index to insert, so list remains sorted is  : \", end=\"\") \n",
    "print (bisect.bisect_left(li, 4))"
   ]
  },
  {
   "cell_type": "code",
   "execution_count": 5,
   "metadata": {},
   "outputs": [
    {
     "name": "stdout",
     "output_type": "stream",
     "text": [
      "The rightmost index to insert, so list remains sorted is  : 4\n"
     ]
    }
   ],
   "source": [
    "# using bisect_right() to find index to insert new element \n",
    "# returns 4 ( right most possible index ) \n",
    "print (\"The rightmost index to insert, so list remains sorted is  : \", end=\"\") \n",
    "print (bisect.bisect_right(li, 4, 0, 4)) "
   ]
  },
  {
   "cell_type": "code",
   "execution_count": null,
   "metadata": {},
   "outputs": [],
   "source": []
  },
  {
   "cell_type": "markdown",
   "metadata": {},
   "source": [
    "Time Complexity:\n",
    "\n",
    "O(n) -> Inserting an element in sorted array requires traversal"
   ]
  },
  {
   "cell_type": "code",
   "execution_count": 6,
   "metadata": {},
   "outputs": [],
   "source": [
    "# initializing list \n",
    "li1 = [1, 3, 4, 4, 4, 6, 7] \n",
    "  \n",
    "# initializing list \n",
    "li2 = [1, 3, 4, 4, 4, 6, 7] \n",
    "  \n",
    "# initializing list \n",
    "li3 = [1, 3, 4, 4, 4, 6, 7] "
   ]
  },
  {
   "cell_type": "code",
   "execution_count": 11,
   "metadata": {},
   "outputs": [
    {
     "name": "stdout",
     "output_type": "stream",
     "text": [
      "The list after inserting new element using insort() is : \n",
      "1 3 4 4 4 5 5 "
     ]
    }
   ],
   "source": [
    "# using insort() to insert 5 at appropriate position \n",
    "# inserts at 6th position \n",
    "bisect.insort(li1, 5) \n",
    "\n",
    "print(\"The list after inserting new element using insort() is : \")\n",
    "for i in range(0, 7): \n",
    "    print(li1[i], end=\" \") "
   ]
  },
  {
   "cell_type": "code",
   "execution_count": 12,
   "metadata": {},
   "outputs": [
    {
     "name": "stdout",
     "output_type": "stream",
     "text": [
      "\r\n",
      "The list after inserting new element using insort_left() is : \n",
      "1 3 4 4 4 5 6 \r\n"
     ]
    }
   ],
   "source": [
    "# using insort_left() to insert 5 at appropriate position \n",
    "# inserts at 6th position \n",
    "bisect.insort_left(li2, 5) \n",
    "  \n",
    "print(\"\\r\") \n",
    "  \n",
    "print(\"The list after inserting new element using insort_left() is : \") \n",
    "for i in range(0, 7): \n",
    "    print(li2[i], end=\" \") \n",
    "  \n",
    "print(\"\\r\") "
   ]
  },
  {
   "cell_type": "code",
   "execution_count": 13,
   "metadata": {},
   "outputs": [
    {
     "name": "stdout",
     "output_type": "stream",
     "text": [
      "The list after inserting new element using insort_right() is : \n",
      "1 3 4 4 5 4 6 "
     ]
    }
   ],
   "source": [
    "# using insort_right() to insert 5 at appropriate position \n",
    "# inserts at 5th position \n",
    "bisect.insort_right(li3, 5, 0, 4) \n",
    "  \n",
    "print (\"The list after inserting new element using insort_right() is : \") \n",
    "for i in range(0, 7): \n",
    "    print(li3[i], end=\" \") "
   ]
  },
  {
   "cell_type": "code",
   "execution_count": null,
   "metadata": {},
   "outputs": [],
   "source": []
  }
 ],
 "metadata": {
  "kernelspec": {
   "display_name": "Python 3",
   "language": "python",
   "name": "python3"
  },
  "language_info": {
   "codemirror_mode": {
    "name": "ipython",
    "version": 3
   },
   "file_extension": ".py",
   "mimetype": "text/x-python",
   "name": "python",
   "nbconvert_exporter": "python",
   "pygments_lexer": "ipython3",
   "version": "3.6.9"
  }
 },
 "nbformat": 4,
 "nbformat_minor": 2
}
