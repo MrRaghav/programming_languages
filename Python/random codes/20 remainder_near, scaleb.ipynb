{
 "cells": [
  {
   "cell_type": "markdown",
   "metadata": {},
   "source": [
    "reference:\n",
    "    \n",
    "https://www.geeksforgeeks.org/decimal-functions-in-python-set-2-logical_and-normalize-quantize-rotate/"
   ]
  },
  {
   "cell_type": "code",
   "execution_count": 1,
   "metadata": {},
   "outputs": [],
   "source": [
    "# importing \"decimal\" module to use decimal functions \n",
    "import decimal "
   ]
  },
  {
   "cell_type": "code",
   "execution_count": 2,
   "metadata": {},
   "outputs": [],
   "source": [
    "# Initializing decimal number \n",
    "a = decimal.Decimal(23.765) \n",
    "  \n",
    "# Initializing decimal number \n",
    "b = decimal.Decimal(12) \n",
    "  \n",
    "# Initializing decimal number \n",
    "c = decimal.Decimal(8) "
   ]
  },
  {
   "cell_type": "markdown",
   "metadata": {},
   "source": [
    "Returns the value **“1st – (n*2nd)”** where **n is the integer value nearest to the result of 1st/2nd**. \n",
    "\n",
    "If 2 integers have **exactly similar proximity, even one is choosen** ."
   ]
  },
  {
   "cell_type": "code",
   "execution_count": 3,
   "metadata": {},
   "outputs": [
    {
     "name": "stdout",
     "output_type": "stream",
     "text": [
      "The computed value using remainder_near() is : -4\n"
     ]
    }
   ],
   "source": [
    "# using remainder_near to compute value \n",
    "print (\"The computed value using remainder_near() is : \",end=\"\") \n",
    "print (b.remainder_near(c)) "
   ]
  },
  {
   "cell_type": "code",
   "execution_count": 4,
   "metadata": {},
   "outputs": [
    {
     "name": "stdout",
     "output_type": "stream",
     "text": [
      "The value after shifting exponent : 2376.500000000000056843418861\n"
     ]
    }
   ],
   "source": [
    "# using scaleb() to shift exponont \n",
    "print (\"The value after shifting exponent : \",end=\"\") \n",
    "print (a.scaleb(2)) "
   ]
  },
  {
   "cell_type": "code",
   "execution_count": null,
   "metadata": {},
   "outputs": [],
   "source": []
  }
 ],
 "metadata": {
  "kernelspec": {
   "display_name": "Python 3",
   "language": "python",
   "name": "python3"
  },
  "language_info": {
   "codemirror_mode": {
    "name": "ipython",
    "version": 3
   },
   "file_extension": ".py",
   "mimetype": "text/x-python",
   "name": "python",
   "nbconvert_exporter": "python",
   "pygments_lexer": "ipython3",
   "version": "3.6.9"
  }
 },
 "nbformat": 4,
 "nbformat_minor": 2
}
