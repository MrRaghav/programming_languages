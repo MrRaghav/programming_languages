{
 "cells": [
  {
   "cell_type": "markdown",
   "metadata": {},
   "source": [
    "reference:\n",
    "    \n",
    "https://www.geeksforgeeks.org/fnmatch-unix-filename-pattern-matching-python/\n",
    "\n",
    "https://docs.python.org/3/library/fnmatch.html"
   ]
  },
  {
   "cell_type": "code",
   "execution_count": 11,
   "metadata": {},
   "outputs": [],
   "source": [
    "import fnmatch \n",
    "import os "
   ]
  },
  {
   "cell_type": "markdown",
   "metadata": {},
   "source": [
    "**fnmatch**"
   ]
  },
  {
   "cell_type": "code",
   "execution_count": 17,
   "metadata": {},
   "outputs": [
    {
     "name": "stdout",
     "output_type": "stream",
     "text": [
      "fnmatchtest1.txt\n"
     ]
    }
   ],
   "source": [
    "for file in os.listdir('.'):\n",
    "    if fnmatch.fnmatch(file, '*.txt'):\n",
    "        print(file)"
   ]
  },
  {
   "cell_type": "markdown",
   "metadata": {},
   "source": [
    "**fnmatchcase**"
   ]
  },
  {
   "cell_type": "code",
   "execution_count": 18,
   "metadata": {},
   "outputs": [
    {
     "name": "stdout",
     "output_type": "stream",
     "text": [
      "fnmatchtest1.txt\n"
     ]
    }
   ],
   "source": [
    "for file in os.listdir('.'):\n",
    "    if fnmatch.fnmatchcase(file, '*.txt'):\n",
    "        print(file)"
   ]
  },
  {
   "cell_type": "markdown",
   "metadata": {},
   "source": [
    "**filter**"
   ]
  },
  {
   "cell_type": "code",
   "execution_count": 19,
   "metadata": {},
   "outputs": [],
   "source": [
    "for file in os.listdir('.'):\n",
    "    if fnmatch.filter(file, '*.txt'):\n",
    "        print(file)"
   ]
  },
  {
   "cell_type": "markdown",
   "metadata": {},
   "source": [
    "**translate**"
   ]
  },
  {
   "cell_type": "code",
   "execution_count": 21,
   "metadata": {},
   "outputs": [
    {
     "name": "stdout",
     "output_type": "stream",
     "text": [
      ".google-cookie\n",
      ".ipynb_checkpoints\n",
      "10 gamma function.ipynb\n",
      "11 expm1.ipynb\n",
      "12 as_tuple and fma.ipynb\n",
      "13 compare and compare_total_mag.ipynb\n",
      "14 copy_abs,copy_sign and copy_negate.ipynb\n",
      "15 logical and or xor invert.ipynb\n",
      "16 next_plus and next_minus.ipynb\n",
      "17 next_toward, normalize.ipynb\n",
      "18 quantize, same_quantum.ipynb\n",
      "19 rotate, shift.ipynb\n",
      "20 remainder_near, scaleb.ipynb\n",
      "21 getpass and getuser.ipynb\n",
      "22 fnmatch.ipynb\n",
      "3 Zodiac signs using Python.ipynb\n",
      "4 namedtuple - access operations.ipynb\n",
      "5 namedtuple - conversion operations.ipynb\n",
      "6 namedtuple - additional operations.ipynb\n",
      "7 heapq in python.ipynb\n",
      "8 enumerations .ipynb\n",
      "9 bisect module.ipynb\n",
      "crawl a web page and get most frequent words.ipynb\n",
      "flyingfeets.png\n",
      "flyingfeets.svg\n",
      "fnmatchtest1.txt\n",
      "myqr.png\n",
      "myqr.svg\n",
      "QR code reader.ipynb\n"
     ]
    }
   ],
   "source": [
    "for file in os.listdir('.'):\n",
    "    if fnmatch.translate('*.txt'):\n",
    "        print(file)"
   ]
  },
  {
   "cell_type": "code",
   "execution_count": null,
   "metadata": {},
   "outputs": [],
   "source": []
  }
 ],
 "metadata": {
  "kernelspec": {
   "display_name": "Python 3",
   "language": "python",
   "name": "python3"
  },
  "language_info": {
   "codemirror_mode": {
    "name": "ipython",
    "version": 3
   },
   "file_extension": ".py",
   "mimetype": "text/x-python",
   "name": "python",
   "nbconvert_exporter": "python",
   "pygments_lexer": "ipython3",
   "version": "3.6.9"
  }
 },
 "nbformat": 4,
 "nbformat_minor": 2
}
